{
 "cells": [
  {
   "cell_type": "code",
   "execution_count": 1,
   "metadata": {},
   "outputs": [],
   "source": [
    "import os\n",
    "import logging as lg\n",
    "import re\n",
    "import pandas as pd"
   ]
  },
  {
   "cell_type": "code",
   "execution_count": 2,
   "metadata": {},
   "outputs": [],
   "source": [
    "# Set variables for utils\n",
    "filepathToDirectory = r\"C:\\Users\\Yannick\\Documents\\Daten\\preprEOC\\\"\n",
    "\n",
    "arrayCalendarParameterID = [\"P001\", \"P002\", \"P003\", \"P004\", \"P005\", \"P006\",\"P007\", \"P008\", \"P009\", \"P010\", \"P011\", \"P012\", \"P013\", \"P014\", \"P015\", \"P016\"]\n",
    "arrayCyclicParameterID = [\"P017\", \"P018\", \"P019\", \"P020\", \"P021\", \"P022\", \"P023\", \"P024\", \"P025\", \"P026\", \"P027\", \"P028\", \"P029\", \"P030\", \"P031\", \"P032\", \"P033\", \"P034\", \"P035\", \"P036\", \"P037\", \"P038\", \"P039\", \"P040\", \"P041\", \"P042\", \"P043\", \"P044\", \"P045\", \"P046\", \"P047\", \"P048\", \"P048\", \"P049\", \"P050\", \"P051\", \"P052\", \"P053\", \"P054\", \"P055\", \"P056\", \"P057\", \"P058\", \"P059\", \"P060\", \"P061\", \"P062\", \"P063\", \"P064\"]\n",
    "arrayProfileParameterID = [\"P065\", \"P066\", \"P067\", \"P068\",\"P069\", \"P070\", \"P071\", \"P072\", \"P073\", \"P074\", \"P075\", \"P076\"]"
   ]
  },
  {
   "cell_type": "code",
   "execution_count": 3,
   "metadata": {},
   "outputs": [],
   "source": [
    "#   Erstellt ein Dataframe mit einer Liste von alle Dateien die im Ordner gefunden werden.\n",
    "#   Für jede Datei werden 'fileName, filePath, SlaveNumber, CellNumber, age_temp, age_soc, parameterId\n",
    "#   Dataframe beinhaltet noch keine Messdaten\n",
    "\n",
    "def helper_df_selected_parameters(filesToSearch: list):\n",
    "    files = os.listdir(filepathToDirectory)\n",
    "    files = [f for f in files if any(substring in f for substring in filesToSearch)]\n",
    "    lg.info(f\"Found {len(files)} csv files\")\n",
    "    files.sort()\n",
    "    data = {\n",
    "        'fileName': [],\n",
    "        'filePath': [],\n",
    "        'SlaveNumber': [],\n",
    "        'CellNumber': [],\n",
    "        'age_temp': [],\n",
    "        'age_soc': [],\n",
    "        \"parameterId\" : []\n",
    "    }\n",
    "    df = pd.DataFrame(data)\n",
    "    #Fill the dataframe with info of csv files\n",
    "    for file in files:\n",
    "        # Extract PXXX\n",
    "        p_number = re.search(r'P(\\d+)', file).group(1)\n",
    "\n",
    "        # Extract SXX\n",
    "        s_number = re.search(r'S(\\d+)', file).group(1)\n",
    "\n",
    "        # Extract CXX\n",
    "        c_number = re.search(r'C(\\d+)', file).group(1)\n",
    "\n",
    "        columns_to_extract = ['age_temp', 'age_soc']\n",
    "        # Read the specified columns from the CSV file\n",
    "        temp_df = pd.read_csv(filepathToDirectory+file,usecols=columns_to_extract, delimiter=';', nrows=1)\n",
    "        age_temp = temp_df['age_temp'].iloc[0]\n",
    "        age_soc = temp_df['age_soc'].iloc[0]\n",
    "        file_data = {\n",
    "            'fileName': file,\n",
    "            'filePath': filepathToDirectory+file,\n",
    "            'SlaveNumber': s_number,\n",
    "            'CellNumber': c_number,\n",
    "            'age_temp': age_temp,\n",
    "            'age_soc': age_soc,\n",
    "            \"parameterId\" : p_number\n",
    "        }\n",
    "        df = pd.concat([df, pd.DataFrame(file_data, index=[0])], ignore_index=True)\n",
    "    return df"
   ]
  },
  {
   "cell_type": "code",
   "execution_count": 4,
   "metadata": {},
   "outputs": [
    {
     "name": "stdout",
     "output_type": "stream",
     "text": [
      "                      fileName  \\\n",
      "0  cell_eoc_P001_1_S01_C10.csv   \n",
      "1  cell_eoc_P001_2_S04_C09.csv   \n",
      "2  cell_eoc_P001_3_S05_C06.csv   \n",
      "3  cell_eoc_P002_1_S02_C10.csv   \n",
      "4  cell_eoc_P002_2_S03_C10.csv   \n",
      "\n",
      "                                            filePath SlaveNumber CellNumber  \\\n",
      "0  C:\\Users\\Yannick\\Documents\\Daten\\preprEOC\\cell...          01         10   \n",
      "1  C:\\Users\\Yannick\\Documents\\Daten\\preprEOC\\cell...          04         09   \n",
      "2  C:\\Users\\Yannick\\Documents\\Daten\\preprEOC\\cell...          05         06   \n",
      "3  C:\\Users\\Yannick\\Documents\\Daten\\preprEOC\\cell...          02         10   \n",
      "4  C:\\Users\\Yannick\\Documents\\Daten\\preprEOC\\cell...          03         10   \n",
      "\n",
      "   age_temp  age_soc parameterId  \n",
      "0       0.0     10.0         001  \n",
      "1       0.0     10.0         001  \n",
      "2       0.0     10.0         001  \n",
      "3       0.0     50.0         002  \n",
      "4       0.0     50.0         002  \n"
     ]
    }
   ],
   "source": [
    "df = helper_df_selected_parameters(arrayCalendarParameterID)\n",
    "print(df.head())"
   ]
  }
 ],
 "metadata": {
  "kernelspec": {
   "display_name": "Python 3",
   "language": "python",
   "name": "python3"
  },
  "language_info": {
   "codemirror_mode": {
    "name": "ipython",
    "version": 3
   },
   "file_extension": ".py",
   "mimetype": "text/x-python",
   "name": "python",
   "nbconvert_exporter": "python",
   "pygments_lexer": "ipython3",
   "version": "3.11.4"
  }
 },
 "nbformat": 4,
 "nbformat_minor": 2
}
